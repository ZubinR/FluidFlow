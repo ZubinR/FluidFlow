{
 "metadata": {
  "name": "",
  "signature": "sha256:ff17ea9ddb3668d58c47d9dee5e2d77986c9fb0c2bfafb4d4cc808e18077e1e3"
 },
 "nbformat": 3,
 "nbformat_minor": 0,
 "worksheets": [
  {
   "cells": [
    {
     "cell_type": "heading",
     "level": 1,
     "metadata": {},
     "source": [
      "Lattice Boltzmann Poiseuille Flow"
     ]
    },
    {
     "cell_type": "markdown",
     "metadata": {},
     "source": [
      "The following code calculates the steady state velocity profile in channel flow (Re=6) by means of the Lattice Boltzmann method (d2q9).\n",
      "The channel is modelled by nx points in the horizontal direction and ny points in the vertical directions."
     ]
    },
    {
     "cell_type": "markdown",
     "metadata": {},
     "source": [
      "For channel flow the Navier-Stokes equations reduce to $\\frac{d^2u}{dy^2}=\\frac{1}{\\rho \\nu}\\frac{dP}{dx}$. With no-slip boundary conditions at the walls the solution is given by $u=\\frac{1}{2\\rho \\nu} \\frac{dP}{dx} y(y-$ny$)$. The model should approximate this parabola."
     ]
    },
    {
     "cell_type": "markdown",
     "metadata": {},
     "source": [
      "The Lattice Boltzmann method considers the fluid as densities of particles with a particular velocity. The velocities may be zero of be directed along 9 vectors. We number the vectors as below. The odd numbered vectors have weight 1/9, the even numbered 1/36, and the zeroth vector has weight 4/9."
     ]
    },
    {
     "cell_type": "markdown",
     "metadata": {},
     "source": [
      "<img src=\"Velocity_vectors.png\">"
     ]
    },
    {
     "cell_type": "code",
     "collapsed": false,
     "input": [
      "import numpy as np\n",
      "%matplotlib inline\n",
      "import matplotlib.pyplot as plt\n",
      "import scipy.optimize as opt"
     ],
     "language": "python",
     "metadata": {},
     "outputs": [],
     "prompt_number": 1
    },
    {
     "cell_type": "markdown",
     "metadata": {},
     "source": [
      "Model parameters are defined as follows:"
     ]
    },
    {
     "cell_type": "code",
     "collapsed": false,
     "input": [
      "nx = 50 ; ny = 20 ; q = 9 ; dt = 1 ; tau = 1.85 ; maxiter = 100; du = 0.005\n",
      "e = np.array([[0,1,1,0,-1,-1,-1,0,1], [0,0,1,1,1,0,-1,-1,-1]]) # Velocity vectors\n",
      "weight = np.array([4./9, 1./9, 1./36, 1./9, 1./36, 1./9, 1./36, 1./9, 1./36])"
     ],
     "language": "python",
     "metadata": {},
     "outputs": [],
     "prompt_number": 11
    },
    {
     "cell_type": "markdown",
     "metadata": {},
     "source": [
      "tau represents the relaxation parameter and du the velocity increment at each iteration for simulation a driving force."
     ]
    },
    {
     "cell_type": "markdown",
     "metadata": {},
     "source": [
      "The equilibrium density is calculated with the following function:"
     ]
    },
    {
     "cell_type": "code",
     "collapsed": false,
     "input": [
      "def equilibrium (rho,u):\n",
      "    denseq = np.zeros((q,nx,ny))\n",
      "    eu = np.dot(e.T,u.transpose(1,0,2))\n",
      "    u2 = u[0]**2+u[1]**2\n",
      "    for i in range(q):                      \n",
      "        denseq[i,:,:] = rho * weight[i] * (1. + 3. * eu[i] + 0.5*9*eu[i]**2 - \n",
      "                        1.5*u2)\n",
      "    return denseq"
     ],
     "language": "python",
     "metadata": {},
     "outputs": [],
     "prompt_number": 3
    },
    {
     "cell_type": "markdown",
     "metadata": {},
     "source": [
      "The computed velocity is compared to the theoretical velocity Velx, which is defined below. Here, $a=\\frac{1}{2\\rho \\nu} \\frac{dP}{dx}$. Furthermore, we wish to check that the curvature of the computed velocity is equal to $\\frac{1}{\\rho \\nu}\\frac{dP}{dx}$, hence the function curvature."
     ]
    },
    {
     "cell_type": "code",
     "collapsed": false,
     "input": [
      "def Velx(y,a):  \n",
      "    #a=dp/(2*visc*nx)\n",
      "    return a*y*(y-(ny-1))\n",
      "\n",
      "def curvature(f):\n",
      "    dx = 1\n",
      "    fdiff = np.zeros(len(f)-2)\n",
      "    for i in range (1,len(f)-1):    \n",
      "        fdiff[i-1] = dx**(-2) *(f[i-1] + f[i+1] -2*f[i])\n",
      "    return fdiff\n",
      "    "
     ],
     "language": "python",
     "metadata": {},
     "outputs": [],
     "prompt_number": 5
    },
    {
     "cell_type": "markdown",
     "metadata": {},
     "source": [
      "Compute the viscosity $\\nu$ and the initial conditions."
     ]
    },
    {
     "cell_type": "code",
     "collapsed": false,
     "input": [
      "visc=(2*tau-1)/6\n",
      "u0 = np.zeros((2,nx,ny)) # Initial condition\n",
      "rho0=np.ones((nx,ny))\n",
      "denseq = equilibrium(rho0,u0) \n",
      "densin = denseq.copy()"
     ],
     "language": "python",
     "metadata": {},
     "outputs": [],
     "prompt_number": 6
    },
    {
     "cell_type": "markdown",
     "metadata": {},
     "source": [
      "A boolean mask which is False at the walls and True everywhere (the bulk) else is created to implement the boundary conditions.  "
     ]
    },
    {
     "cell_type": "code",
     "collapsed": false,
     "input": [
      "mask = np.ones((nx,ny), dtype=bool)\n",
      "mask[:,0]=False\n",
      "mask[:,ny-1]=False"
     ],
     "language": "python",
     "metadata": {},
     "outputs": []
    },
    {
     "cell_type": "markdown",
     "metadata": {},
     "source": [
      "Bounce-back boundary conditions are implemented by setting the densities with velocities pointing away from the bulk to zero\n",
      "and then adding these densities to nodes with velocities pointing towards the bulk. Therefore we specify up,down and mid, these specify the vectors pointing upwards, downwards and in the horizontal direction, respectively."
     ]
    },
    {
     "cell_type": "code",
     "collapsed": false,
     "input": [
      "up=np.arange(2,5)\n",
      "down=np.arange(6,9)\n",
      "mid =np.array([[0],[1],[5]])"
     ],
     "language": "python",
     "metadata": {},
     "outputs": []
    },
    {
     "cell_type": "markdown",
     "metadata": {},
     "source": [
      "For every iteration the following is done: implement the bounce back condition, stream the bulk with np.roll, flip the densities at the pre-boundary nodes, calculate rho and u, increment u to force to flow, calculate the equilibrium density and finally relax the model."
     ]
    },
    {
     "cell_type": "code",
     "collapsed": false,
     "input": [
      "# Main time loop\n",
      "for time in range(maxiter):\n",
      "    densupbound=densin[down,:,1]\n",
      "    denslowbound=densin[up,:,-2]\n",
      "    densin[down,:,1]=0 # Forces densities with velocities away from the bulk to zero.\n",
      "    densin[up,:,-2]=0    \n",
      "    for j in range(q): #Streaming of the bulk.\n",
      "        densbulk = densin[j,mask].reshape(nx,ny-2) \n",
      "        densbulk = np.roll(np.roll(densbulk,e[0,j],axis=0),e[1,j],axis=1)       \n",
      "        densin[j,:,1:-1]=densbulk\n",
      "\n",
      "    densin[up,:,1]=densin[up,:,1]+densupbound # Assigns density opposite velocity at pre-boundary nodes.\n",
      "    densin[down,:,-2]=densin[down,:,ny-2]+denslowbound      \n",
      "    \n",
      "    rho = np.sum(densin,axis=0)\n",
      "    u = np.dot(e,densin.transpose(1,0,2))/rho  \n",
      "    u[0,mask]+=du    \n",
      "#    print(rho[1,1]) # Checks density conservation\n",
      "    denseq = equilibrium(rho,u)\n",
      " \n",
      "    for j in range (q): #Relaxation\n",
      "        densin[j,:,1:-1] = (1-1/tau)*densin[j,:,1:-1] + denseq[j,:,1:-1]/tau\n",
      "          \n",
      "    \n"
     ],
     "language": "python",
     "metadata": {},
     "outputs": [],
     "prompt_number": 9
    },
    {
     "cell_type": "heading",
     "level": 1,
     "metadata": {},
     "source": [
      "Result"
     ]
    },
    {
     "cell_type": "code",
     "collapsed": false,
     "input": [
      "Re =np.sum(u)*ny/(nx*ny*visc)\n",
      "\n",
      "U=u[0,25,:]\n",
      "y=np.arange(ny)\n",
      "a,cov=opt.curve_fit(Velx,y,U,0.0,None)    \n",
      "plt.plot(U,y, 'r+', Velx(y,a),y) \n",
      "plt.xlabel('Horizontal Velocity') ; plt.ylabel('y') ;plt.title( 'Poisseuile Flow, '\"Re=%g\"%Re)\n",
      "curve=curvature(U)"
     ],
     "language": "python",
     "metadata": {},
     "outputs": [
      {
       "metadata": {},
       "output_type": "display_data",
       "png": "[encoded data removed]",
       "text": [
        "<matplotlib.figure.Figure at 0x7f070ce4f780>"
       ]
      }
     ],
     "prompt_number": 13
    },
    {
     "cell_type": "code",
     "collapsed": false,
     "input": [],
     "language": "python",
     "metadata": {},
     "outputs": []
    }
   ],
   "metadata": {}
  }
 ]
}